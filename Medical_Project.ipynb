{
 "cells": [
  {
   "cell_type": "markdown",
   "metadata": {},
   "source": [
    "# Medical Info\n",
    "\n",
    "* First need to import wikipedia via pip install"
   ]
  },
  {
   "cell_type": "code",
   "execution_count": 10,
   "metadata": {},
   "outputs": [],
   "source": [
    "import wikipedia as wk\n",
    "import os\n",
    "import numpy as np \n",
    "import pandas as pd"
   ]
  },
  {
   "cell_type": "code",
   "execution_count": 15,
   "metadata": {},
   "outputs": [
    {
     "name": "stdout",
     "output_type": "stream",
     "text": [
      "Pages returned for heart rate: 10\n",
      "\n",
      "Heart rate\n",
      "Heart rate variability\n",
      "Tachycardia\n",
      "Heart rate monitor\n",
      "Heart\n",
      "Bradycardia\n",
      "Cardiotocography\n",
      "Heart arrhythmia\n",
      "Rate (mathematics)\n",
      "Heart rate turbulence\n"
     ]
    }
   ],
   "source": [
    "# get list of pages for heart rate\n",
    "\n",
    "hr_list = wk.search(\"heart rate\")\n",
    "print('Pages returned for heart rate: ' + str(len(hr_list)) + '\\n')\n",
    "for i in hr_list: \n",
    "    print(i)"
   ]
  },
  {
   "cell_type": "code",
   "execution_count": 34,
   "metadata": {},
   "outputs": [
    {
     "name": "stdout",
     "output_type": "stream",
     "text": [
      "Content size: 10\n",
      "\n",
      "Links size: 10\n",
      "\n",
      "Url size: 10\n",
      "\n"
     ]
    }
   ],
   "source": [
    "# return some content and links\n",
    "\n",
    "content = []\n",
    "links = []\n",
    "url = []\n",
    "\n",
    "for i in hr_list: \n",
    "    content.append(wk.page(i).content)\n",
    "    links.append(wk.page(i).links)\n",
    "    url.append(wk.page(i).url)\n",
    "    \n",
    "print('Content size: ' + str(len(content)) + '\\n')\n",
    "print('Links size: ' + str(len(links)) + '\\n')\n",
    "print('Url size: ' + str(len(url)) + '\\n')"
   ]
  },
  {
   "cell_type": "code",
   "execution_count": 36,
   "metadata": {},
   "outputs": [
    {
     "name": "stdout",
     "output_type": "stream",
     "text": [
      "https://en.wikipedia.org/wiki/Heart_rate\n",
      "\n",
      "https://en.wikipedia.org/wiki/Heart_rate_variability\n",
      "\n",
      "https://en.wikipedia.org/wiki/Tachycardia\n",
      "\n",
      "https://en.wikipedia.org/wiki/Heart_rate_monitor\n",
      "\n",
      "https://en.wikipedia.org/wiki/Heart\n",
      "\n",
      "https://en.wikipedia.org/wiki/Bradycardia\n",
      "\n",
      "https://en.wikipedia.org/wiki/Cardiotocography\n",
      "\n",
      "https://en.wikipedia.org/wiki/Heart_arrhythmia\n",
      "\n",
      "https://en.wikipedia.org/wiki/Rate_(mathematics)\n",
      "\n",
      "https://en.wikipedia.org/wiki/Heart_rate_turbulence\n",
      "\n"
     ]
    }
   ],
   "source": [
    "# print the first 100 characters of each article\n",
    "\n",
    "for i in url:\n",
    "    print(i + '\\n')"
   ]
  },
  {
   "cell_type": "code",
   "execution_count": 27,
   "metadata": {},
   "outputs": [
    {
     "name": "stdout",
     "output_type": "stream",
     "text": [
      "Heart rate is the speed of the heartbeat measured by the number of contractions (beats) of the heart\n",
      "\n",
      "Heart rate variability (HRV) is the physiological phenomenon of variation in the time interval betwe\n",
      "\n",
      "Tachycardia, also called tachyarrhythmia, is a heart rate that exceeds the normal resting rate. In g\n",
      "\n",
      "A heart rate monitor is a personal monitoring device that allows one to measure one's heart rate in \n",
      "\n",
      "The heart is a muscular organ in most animals, which pumps blood through the blood vessels of the ci\n",
      "\n",
      "Bradycardia is a condition wherein an individual has a very slow heart rate, typically defined as a \n",
      "\n",
      "Cardiotocography (CTG) is a technical means of recording the fetal heartbeat and the uterine contrac\n",
      "\n",
      "Heart arrhythmia (also known as arrhythmia, dysrhythmia, or irregular heartbeat) is a group of condi\n",
      "\n",
      "In mathematics, a rate is the ratio between two related quantities.  If the denominator of the ratio\n",
      "\n",
      "Heart rate turbulence (HRT) is the return to equilibrium of heart rate after a premature ventricular\n",
      "\n"
     ]
    }
   ],
   "source": [
    "# print the first 100 characters of each article\n",
    "\n",
    "for i in range(0,len(content)):\n",
    "    p = content[i]\n",
    "    print(p[:100] + '\\n')"
   ]
  },
  {
   "cell_type": "code",
   "execution_count": 31,
   "metadata": {},
   "outputs": [
    {
     "name": "stdout",
     "output_type": "stream",
     "text": [
      "Abdomen\n",
      "Abdominal aorta\n",
      "Accelerans nerve\n",
      "Acetylcholine\n",
      "Acidosis\n",
      "\n",
      "\n",
      "ArXiv\n",
      "Autonomic nervous system\n",
      "Ballistocardiography\n",
      "Baroreceptor\n",
      "Baroreflex\n",
      "\n",
      "\n",
      "AV nodal reentrant tachycardia\n",
      "Accelerated idioventricular rhythm\n",
      "Acute coronary syndrome\n",
      "Acute pericarditis\n",
      "Adams–Stokes syndrome\n",
      "\n",
      "\n",
      "ANT (network)\n",
      "Activity tracker\n",
      "Apple Watch\n",
      "Bluetooth\n",
      "E-textiles\n",
      "\n",
      "\n",
      "ACE inhibitor\n",
      "ACTC1\n",
      "AV nodal reentrant tachycardia\n",
      "Absolute refractory period\n",
      "Accelerans nerve\n",
      "\n",
      "\n",
      "AV junction\n",
      "AV nodal reentrant tachycardia\n",
      "Accelerated idioventricular rhythm\n",
      "Acute coronary syndrome\n",
      "Acute pericarditis\n",
      "\n",
      "\n",
      "3D ultrasound\n",
      "AWHONN\n",
      "Abortion\n",
      "Adaptation to extrauterine life\n",
      "Alcohol septal ablation\n",
      "\n",
      "\n",
      "AV nodal reentrant tachycardia\n",
      "Accelerated idioventricular rhythm\n",
      "Action potential\n",
      "Acute coronary syndrome\n",
      "Acute pericarditis\n",
      "\n",
      "\n",
      "Acceleration\n",
      "Becquerel\n",
      "Benefit-cost ratio\n",
      "Birth rate\n",
      "Bit rate\n",
      "\n",
      "\n",
      "Atropine\n",
      "Baroreflex\n",
      "Beta-blocker\n",
      "Blood pressure\n",
      "Cardiac cycle\n",
      "\n",
      "\n"
     ]
    }
   ],
   "source": [
    "# print first 5 links for each page\n",
    "\n",
    "for i in links: \n",
    "    for j in range(0,5):\n",
    "        print(i[j])\n",
    "    print('\\n')\n",
    "    "
   ]
  },
  {
   "cell_type": "code",
   "execution_count": null,
   "metadata": {},
   "outputs": [],
   "source": []
  }
 ],
 "metadata": {
  "kernelspec": {
   "display_name": "Python 3",
   "language": "python",
   "name": "python3"
  },
  "language_info": {
   "codemirror_mode": {
    "name": "ipython",
    "version": 3
   },
   "file_extension": ".py",
   "mimetype": "text/x-python",
   "name": "python",
   "nbconvert_exporter": "python",
   "pygments_lexer": "ipython3",
   "version": "3.6.7"
  }
 },
 "nbformat": 4,
 "nbformat_minor": 2
}
